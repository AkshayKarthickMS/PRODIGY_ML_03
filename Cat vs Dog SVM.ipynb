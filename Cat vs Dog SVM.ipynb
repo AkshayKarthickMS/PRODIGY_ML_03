{
 "cells": [
  {
   "cell_type": "code",
   "execution_count": 4,
   "id": "ccf4c3fd-bdfa-4fec-83c6-4939da947c5d",
   "metadata": {},
   "outputs": [],
   "source": [
    "import os \n",
    "import cv2 \n",
    "from sklearn.metrics import accuracy_score\n",
    "\n",
    "import matplotlib.pyplot as plt\n",
    "import seaborn as sns\n",
    "import numpy as np\n",
    "\n",
    "seed = 42"
   ]
  },
  {
   "cell_type": "code",
   "execution_count": 5,
   "id": "5cee32a9-264a-40a7-9995-74ce4856ed06",
   "metadata": {},
   "outputs": [
    {
     "name": "stdout",
     "output_type": "stream",
     "text": [
      "Training Folder path:   E:\\dataset\\Dog vs Cat Dataset\\train\n",
      "Testing Folder path:    E:\\dataset\\Dog vs Cat Dataset\\test\n"
     ]
    }
   ],
   "source": [
    "train_folder = r\"E:\\dataset\\Dog vs Cat Dataset\\train\"\n",
    "test_folder = r\"E:\\dataset\\Dog vs Cat Dataset\\test\"\n",
    "print(\"Training Folder path:  \",train_folder)\n",
    "print(\"Testing Folder path:   \",test_folder)"
   ]
  },
  {
   "cell_type": "code",
   "execution_count": 3,
   "id": "6a03b100-e8e1-40f2-a3f9-8491260937df",
   "metadata": {},
   "outputs": [
    {
     "ename": "FileNotFoundError",
     "evalue": "[WinError 3] The system cannot find the path specified: 'E:\\\\dataset\\\\Dog vs Cat Dataset\\\\train'",
     "output_type": "error",
     "traceback": [
      "\u001b[1;31m---------------------------------------------------------------------------\u001b[0m",
      "\u001b[1;31mFileNotFoundError\u001b[0m                         Traceback (most recent call last)",
      "Cell \u001b[1;32mIn[3], line 1\u001b[0m\n\u001b[1;32m----> 1\u001b[0m \u001b[38;5;28mprint\u001b[39m(\u001b[43mos\u001b[49m\u001b[38;5;241;43m.\u001b[39;49m\u001b[43mlistdir\u001b[49m\u001b[43m(\u001b[49m\u001b[43mtrain_folder\u001b[49m\u001b[43m)\u001b[49m)\n\u001b[0;32m      2\u001b[0m \u001b[38;5;28;01mfor\u001b[39;00m subfolder \u001b[38;5;129;01min\u001b[39;00m os\u001b[38;5;241m.\u001b[39mlistdir(train_folder):\n\u001b[0;32m      3\u001b[0m     \u001b[38;5;28mprint\u001b[39m(\u001b[38;5;124m'\u001b[39m\u001b[38;5;124msubfolder name: \u001b[39m\u001b[38;5;124m'\u001b[39m,subfolder)\n",
      "\u001b[1;31mFileNotFoundError\u001b[0m: [WinError 3] The system cannot find the path specified: 'E:\\\\dataset\\\\Dog vs Cat Dataset\\\\train'"
     ]
    }
   ],
   "source": [
    "print(os.listdir(train_folder))\n",
    "for subfolder in os.listdir(train_folder):\n",
    "    print('subfolder name: ',subfolder)\n",
    "subfolder_path = os.path.join(train_folder, subfolder)\n",
    "print('subfolder path: ',subfolder_path)"
   ]
  },
  {
   "cell_type": "code",
   "execution_count": null,
   "id": "63f6eed4-fad1-4c5a-87bf-47c18dc59bcf",
   "metadata": {},
   "outputs": [],
   "source": [
    "def load_images(folder):\n",
    "    images = []  \n",
    "    labels = []  \n",
    "\n",
    "    for subfolder in os.listdir(folder):\n",
    "        subfolder_path = os.path.join(folder, subfolder)\n",
    "\n",
    "        if subfolder == 'dogs':\n",
    "            label = 1\n",
    "        else:\n",
    "            label = 0\n",
    "\n",
    "        for imagelist in os.listdir(subfolder_path):\n",
    "            if imagelist.endswith(('.jpg', '.jpeg', '.png')):\n",
    "                image_path = os.path.join(subfolder_path, imagelist)\n",
    "                image = cv2.imread(image_path)\n",
    "                image = cv2.resize(image, (64, 64))\n",
    "                images.append(image)\n",
    "                labels.append(label)\n",
    "\n",
    "    return np.array(images), np.array(labels)"
   ]
  },
  {
   "cell_type": "code",
   "execution_count": null,
   "id": "cf2a0335-885d-487c-b0f2-ff203cd787fb",
   "metadata": {},
   "outputs": [],
   "source": [
    "train_images, train_labels = load_images(train_folder)\n",
    "test_images, test_labels   = load_images(test_folder)"
   ]
  },
  {
   "cell_type": "code",
   "execution_count": null,
   "id": "27de157b-f40c-4331-becc-5b00f387018e",
   "metadata": {},
   "outputs": [],
   "source": [
    "print(train_images.shape)\n",
    "print(train_labels.shape)\n",
    "print(test_images.shape)\n",
    "print(train_labels.shape)"
   ]
  },
  {
   "cell_type": "code",
   "execution_count": null,
   "id": "751858b8-d116-47a4-9c71-e6188f2d091c",
   "metadata": {},
   "outputs": [],
   "source": [
    "# Reshape images\n",
    "flat_train_images  = train_images.reshape(train_images.shape[0], -1) \n",
    "flat_test_images   = test_images.reshape(test_images.shape[0], -1)\n",
    "\n",
    "print(flat_train_images.shape)\n",
    "print(flat_test_images.shape)"
   ]
  },
  {
   "cell_type": "code",
   "execution_count": null,
   "id": "dc6c9a92-fc06-4096-9b7b-006f48e169de",
   "metadata": {},
   "outputs": [],
   "source": [
    "from sklearn.svm import SVC\n",
    "from sklearn.preprocessing import StandardScaler\n",
    "from sklearn.pipeline import make_pipeline\n",
    "\n",
    "# Create and train the SVM model\n",
    "svm_model = make_pipeline(StandardScaler(), SVC(kernel='linear', random_state=seed))\n",
    "svm_model.fit(flat_train_images, train_labels)\n",
    "\n",
    "# Make predictions on the test set\n",
    "svm_predictions = svm_model.predict(flat_test_images)\n",
    "\n",
    "# Calculate accuracy\n",
    "accuracy_svm = accuracy_score(test_labels, svm_predictions)\n",
    "print(\"Accuracy Score of SVM model:\", accuracy_svm)"
   ]
  },
  {
   "cell_type": "code",
   "execution_count": null,
   "id": "adaa8468-6b1c-494a-8286-fb80a8d6caf5",
   "metadata": {},
   "outputs": [],
   "source": [
    "from sklearn.svm import SVC\n",
    "from sklearn.preprocessing import StandardScaler\n",
    "from sklearn.model_selection import GridSearchCV\n",
    "from sklearn.pipeline import make_pipeline\n",
    "from sklearn.metrics import accuracy_score\n",
    "\n",
    "# Define the SVM model with a pipeline for feature scaling\n",
    "svm_model = make_pipeline(StandardScaler(), SVC(kernel='linear', random_state=seed))\n",
    "\n",
    "# Define a parameter grid for GridSearchCV\n",
    "param_grid = {\n",
    "    'svc__C': [0.001, 0.01, 0.1, 1, 10, 100],  # Regularization parameter\n",
    "    'svc__gamma': ['scale', 'auto', 0.1, 1, 10],  # Kernel coefficient\n",
    "}\n",
    "\n",
    "# Perform GridSearchCV to find the best hyperparameters\n",
    "grid_search = GridSearchCV(svm_model, param_grid, cv=5)\n",
    "grid_search.fit(flat_train_images, train_labels)\n",
    "\n",
    "# Get the best model from the grid search\n",
    "best_svm_model = grid_search.best_estimator_\n",
    "\n",
    "# Make predictions on the test set\n",
    "svm_predictions = best_svm_model.predict(flat_test_images)\n",
    "\n",
    "# Calculate accuracy\n",
    "accuracy_svm = accuracy_score(test_labels, svm_predictions)\n",
    "print(\"Accuracy Score of SVM model:\", accuracy_svm)\n",
    "print(\"Best hyperparameters:\", grid_search.best_params_)"
   ]
  },
  {
   "cell_type": "code",
   "execution_count": null,
   "id": "94d977dd-9b59-4f0a-a10c-f97f55f19a65",
   "metadata": {},
   "outputs": [],
   "source": [
    "import matplotlib.pyplot as plt\n",
    "import numpy as np\n",
    "\n",
    "# Define the class names\n",
    "class_names = {0: 'Cat', 1: 'Dog'}  # Assuming 0 represents 'Cat' and 1 represents 'Dog'\n",
    "\n",
    "def display_sample_predictions(model, test_images, true_labels, num_samples=5):\n",
    "    # Get random indices for sample images\n",
    "    random_indices = np.random.choice(len(test_images), size=num_samples, replace=False)\n",
    "    \n",
    "    # Select sample images and true labels\n",
    "    sample_images = test_images[random_indices]\n",
    "    sample_true_labels = true_labels[random_indices]\n",
    "    \n",
    "    # Reshape the flattened images to (64, 64, 3)\n",
    "    sample_images_reshaped = sample_images.reshape(-1, 64, 64, 3)\n",
    "    \n",
    "    # Flatten the reshaped images before making predictions\n",
    "    sample_images_flat = sample_images_reshaped.reshape(len(random_indices), -1)\n",
    "    \n",
    "    # Make predictions on the sample images\n",
    "    sample_predictions = model.predict(sample_images_flat)\n",
    "    \n",
    "    # Convert numeric labels to class names\n",
    "    sample_true_labels_names = [class_names[label] for label in sample_true_labels]\n",
    "    sample_predictions_names = [class_names[label] for label in sample_predictions]\n",
    "    \n",
    "    # Display the sample images along with true and predicted labels\n",
    "    plt.figure(figsize=(15, 5))\n",
    "    for i in range(num_samples):\n",
    "        plt.subplot(1, num_samples, i + 1)\n",
    "        plt.imshow(sample_images_reshaped[i])\n",
    "        plt.title(f'True: {sample_true_labels_names[i]}\\nPredicted: {sample_predictions_names[i]}')\n",
    "        plt.axis('off')\n",
    "    \n",
    "    plt.show()\n",
    "\n",
    "# Display sample predictions using the best SVM model\n",
    "display_sample_predictions(best_svm_model, flat_test_images, test_labels)"
   ]
  },
  {
   "cell_type": "code",
   "execution_count": null,
   "id": "a99698fc-809e-4e86-97b2-f03759ad955e",
   "metadata": {},
   "outputs": [],
   "source": []
  }
 ],
 "metadata": {
  "kernelspec": {
   "display_name": "Python 3 (ipykernel)",
   "language": "python",
   "name": "python3"
  },
  "language_info": {
   "codemirror_mode": {
    "name": "ipython",
    "version": 3
   },
   "file_extension": ".py",
   "mimetype": "text/x-python",
   "name": "python",
   "nbconvert_exporter": "python",
   "pygments_lexer": "ipython3",
   "version": "3.10.0"
  }
 },
 "nbformat": 4,
 "nbformat_minor": 5
}
